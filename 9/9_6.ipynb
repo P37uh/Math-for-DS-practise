{
 "cells": [
  {
   "attachments": {},
   "cell_type": "markdown",
   "metadata": {},
   "source": [
    "## Вектора и матрицы. Градиент. Домашнее задание\n",
    "Найдите значение функции потерь близкое к минимуму = 6.24 при помощи градиентного спуска, используя известную функцию MSE. Сколько шагов вам потребовалось для этого?"
   ]
  },
  {
   "attachments": {},
   "cell_type": "markdown",
   "metadata": {},
   "source": [
    "### Import"
   ]
  },
  {
   "cell_type": "code",
   "execution_count": 9,
   "metadata": {},
   "outputs": [],
   "source": [
    "import sympy as sp\n",
    "\n",
    "a1, a2 = sp.symbols('a1:3')"
   ]
  },
  {
   "cell_type": "code",
   "execution_count": 10,
   "metadata": {},
   "outputs": [
    {
     "data": {
      "text/latex": [
       "$\\displaystyle 0.25 \\left(a_{1} + 2 a_{2} - 5\\right)^{2} + 0.25 \\left(4 a_{1} + 2 a_{2} - 10\\right)^{2} + 0.25 \\left(5 a_{1} + 3 a_{2} - 6\\right)^{2} + 0.25 \\left(7 a_{1} + 3 a_{2} - 8\\right)^{2}$"
      ],
      "text/plain": [
       "0.25*(a1 + 2*a2 - 5)**2 + 0.25*(4*a1 + 2*a2 - 10)**2 + 0.25*(5*a1 + 3*a2 - 6)**2 + 0.25*(7*a1 + 3*a2 - 8)**2"
      ]
     },
     "execution_count": 10,
     "metadata": {},
     "output_type": "execute_result"
    }
   ],
   "source": [
    "mse = 1/4 * ((a1*1 + a2*2 - 5)**2 +\n",
    "             (a1*5 + a2*3 - 6)**2 +\n",
    "             (a2*2 + a1*4 - 10)**2 + \n",
    "             (a2*3 + a1*7 - 8)**2)\n",
    "mse"
   ]
  },
  {
   "attachments": {},
   "cell_type": "markdown",
   "metadata": {},
   "source": [
    "### Solve"
   ]
  },
  {
   "cell_type": "code",
   "execution_count": 11,
   "metadata": {},
   "outputs": [
    {
     "data": {
      "text/latex": [
       "$\\displaystyle 23.0 a_{1} + 13.0 a_{2} - 36.0$"
      ],
      "text/plain": [
       "23.0*a1 + 13.0*a2 - 36.0"
      ]
     },
     "execution_count": 11,
     "metadata": {},
     "output_type": "execute_result"
    }
   ],
   "source": [
    "dmse2 = sp.diff(mse, a2)\n",
    "dmse2"
   ]
  },
  {
   "cell_type": "code",
   "execution_count": 12,
   "metadata": {},
   "outputs": [
    {
     "data": {
      "text/latex": [
       "$\\displaystyle 45.5 a_{1} + 23.0 a_{2} - 65.5$"
      ],
      "text/plain": [
       "45.5*a1 + 23.0*a2 - 65.5"
      ]
     },
     "execution_count": 12,
     "metadata": {},
     "output_type": "execute_result"
    }
   ],
   "source": [
    "dmse1 = sp.diff(mse, a1)\n",
    "dmse1"
   ]
  },
  {
   "cell_type": "code",
   "execution_count": 13,
   "metadata": {},
   "outputs": [
    {
     "data": {
      "text/latex": [
       "$\\displaystyle 6.24708559306369$"
      ],
      "text/plain": [
       "6.24708559306369"
      ]
     },
     "execution_count": 13,
     "metadata": {},
     "output_type": "execute_result"
    }
   ],
   "source": [
    "step = 0.01\n",
    "steps = 0\n",
    "x, y = 0, 0\n",
    "while abs(mse.subs({a1: x, a2: y}) - 6.24) > 0.01:\n",
    "    dx, dy = [float(f.subs({a1: x, a2: y})*step) for f in [dmse1, dmse2]]\n",
    "    x += -dx\n",
    "    y += -dy\n",
    "    steps += 1\n",
    "mse.subs({a1: x, a2: y})"
   ]
  },
  {
   "cell_type": "code",
   "execution_count": 14,
   "metadata": {},
   "outputs": [
    {
     "data": {
      "text/plain": [
       "98"
      ]
     },
     "execution_count": 14,
     "metadata": {},
     "output_type": "execute_result"
    }
   ],
   "source": [
    "steps"
   ]
  }
 ],
 "metadata": {
  "kernelspec": {
   "display_name": "Python 3",
   "language": "python",
   "name": "python3"
  },
  "language_info": {
   "codemirror_mode": {
    "name": "ipython",
    "version": 3
   },
   "file_extension": ".py",
   "mimetype": "text/x-python",
   "name": "python",
   "nbconvert_exporter": "python",
   "pygments_lexer": "ipython3",
   "version": "3.11.0"
  },
  "orig_nbformat": 4,
  "vscode": {
   "interpreter": {
    "hash": "fdd26c208cdc82a099485af7ee50f707cd08a163097de28840a416c136e1b212"
   }
  }
 },
 "nbformat": 4,
 "nbformat_minor": 2
}
