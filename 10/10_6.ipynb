{
 "cells": [
  {
   "attachments": {},
   "cell_type": "markdown",
   "metadata": {},
   "source": [
    "## Линейная регрессия и системы линейных уравнений. Домашнее задание\n",
    "3.\tРешите переопределенную СЛАУ. Достигните значения MSE < 55."
   ]
  },
  {
   "attachments": {},
   "cell_type": "markdown",
   "metadata": {},
   "source": [
    "### Import"
   ]
  },
  {
   "cell_type": "code",
   "execution_count": 16,
   "metadata": {},
   "outputs": [],
   "source": [
    "import sympy as sp\n",
    "import numpy as np\n",
    "\n",
    "a1, a2, a3 = sp.symbols('a1:4')\n",
    "x1, x2, x3 = sp.symbols('x1:4')"
   ]
  },
  {
   "attachments": {},
   "cell_type": "markdown",
   "metadata": {},
   "source": [
    "### Solve"
   ]
  },
  {
   "cell_type": "code",
   "execution_count": 17,
   "metadata": {},
   "outputs": [
    {
     "data": {
      "text/latex": [
       "$\\displaystyle 0.2 \\left(2 a_{1} - 2 a_{2} - 10\\right)^{2} + 0.2 \\left(- a_{2} + 4 a_{3} + 4\\right)^{2} + 0.2 \\left(a_{2} + 3 a_{3} + 1\\right)^{2} + 0.2 \\left(a_{2} + 8 a_{3} + 2\\right)^{2} + 0.2 \\left(- 7 a_{1} - 8 a_{2} - 4 a_{3} - 63\\right)^{2} + 0.2 \\left(- 5 a_{1} + 7 a_{2} + 5 a_{3} + 47\\right)^{2}$"
      ],
      "text/plain": [
       "0.2*(2*a1 - 2*a2 - 10)**2 + 0.2*(-a2 + 4*a3 + 4)**2 + 0.2*(a2 + 3*a3 + 1)**2 + 0.2*(a2 + 8*a3 + 2)**2 + 0.2*(-7*a1 - 8*a2 - 4*a3 - 63)**2 + 0.2*(-5*a1 + 7*a2 + 5*a3 + 47)**2"
      ]
     },
     "execution_count": 17,
     "metadata": {},
     "output_type": "execute_result"
    }
   ],
   "source": [
    "mse = 1/5 * ((5*a3 + 7*a2 - 5*a1 + 47)**2 + \n",
    "             (0*a3 - 2*a2 + 2*a1 - 10)**2 +\n",
    "             (-4*a3 - 8*a2 - 7*a1 - 63)**2 +\n",
    "             (1*a3 + 1*a2 + 2*a3 + 1)**2 + \n",
    "             (2*a3 - 1*a2 + 2*a3 + 4)**2 +\n",
    "             (4*a3 + 1*a2 + 4*a3 + 2)**2)\n",
    "mse"
   ]
  },
  {
   "cell_type": "code",
   "execution_count": 18,
   "metadata": {},
   "outputs": [
    {
     "data": {
      "text/plain": [
       "[31.2*a1 + 6.8*a2 + 1.2*a3 + 74.4,\n",
       " 6.8*a1 + 48.0*a2 + 29.6*a3 + 340.8,\n",
       " 1.2*a1 + 29.6*a2 + 52.0*a3 + 208.8]"
      ]
     },
     "execution_count": 18,
     "metadata": {},
     "output_type": "execute_result"
    }
   ],
   "source": [
    "gmse = [sp.diff(mse, a1), sp.diff(mse, a2), sp.diff(mse, a3)]\n",
    "gmse"
   ]
  },
  {
   "cell_type": "code",
   "execution_count": 21,
   "metadata": {},
   "outputs": [
    {
     "data": {
      "text/latex": [
       "$\\displaystyle 49.7276850480665$"
      ],
      "text/plain": [
       "49.7276850480665"
      ]
     },
     "execution_count": 21,
     "metadata": {},
     "output_type": "execute_result"
    }
   ],
   "source": [
    "x, y, z = 0, 0, 0\n",
    "step = 0.01\n",
    "while float(mse.subs({a1:x, a2:y, a3:z})) > 55:\n",
    "    dx, dy, dz = [float(f.subs({a1:x, a2:y, a3:z})*step) for f in gmse]\n",
    "    x += -dx\n",
    "    y += -dy\n",
    "    z += -dz\n",
    "mse.subs({a1:x, a2:y, a3:z})"
   ]
  }
 ],
 "metadata": {
  "kernelspec": {
   "display_name": "Python 3",
   "language": "python",
   "name": "python3"
  },
  "language_info": {
   "codemirror_mode": {
    "name": "ipython",
    "version": 3
   },
   "file_extension": ".py",
   "mimetype": "text/x-python",
   "name": "python",
   "nbconvert_exporter": "python",
   "pygments_lexer": "ipython3",
   "version": "3.11.0"
  },
  "orig_nbformat": 4,
  "vscode": {
   "interpreter": {
    "hash": "fdd26c208cdc82a099485af7ee50f707cd08a163097de28840a416c136e1b212"
   }
  }
 },
 "nbformat": 4,
 "nbformat_minor": 2
}
