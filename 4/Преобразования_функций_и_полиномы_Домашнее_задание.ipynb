{
  "cells": [
    {
      "attachments": {},
      "cell_type": "markdown",
      "metadata": {
        "colab_type": "text",
        "id": "yyo73hwFEoJt"
      },
      "source": [
        "## Преобразования функций и полиномы. Домашнее задание\n",
        "\n",
        "С помощью SymPy найдите полиномы, описывающие данные наборы точек. Затем проведите полное исследование каждого полученного полинома: проверьте четность/нечетность, найдите нули, промежутки знакопостоянства. Постройте их графики. С помощью изменения промежутка для х добейтесь того, чтобы все нули были отображены на графике функции.<br><br>\n",
        "Средний уровень <br><br>\n",
        "$(-2, 2), (-1, 1), (0, 0), (1, 1), (2, 2)$<br><br>\n",
        "Сложный уровень <br><br>\n",
        "$(-3, 33), (-2, 31), (-1, 18), (1, -18), (2, -31), (3, -33)$\n"
      ]
    },
    {
      "attachments": {},
      "cell_type": "markdown",
      "metadata": {},
      "source": [
        "### Import"
      ]
    },
    {
      "cell_type": "code",
      "execution_count": 1,
      "metadata": {
        "colab": {},
        "colab_type": "code",
        "id": "bVBLXKfjEiEA"
      },
      "outputs": [],
      "source": [
        "import numpy as np\n",
        "import sympy as sp\n",
        "import matplotlib.pyplot as plt\n",
        "\n",
        "%matplotlib inline"
      ]
    },
    {
      "attachments": {},
      "cell_type": "markdown",
      "metadata": {},
      "source": [
        "### Solve 1"
      ]
    },
    {
      "cell_type": "code",
      "execution_count": 2,
      "metadata": {},
      "outputs": [
        {
          "data": {
            "text/latex": [
              "$\\displaystyle \\left\\{\\left( 0, \\  0, \\  \\frac{7}{6}, \\  0, \\  - \\frac{1}{6}\\right)\\right\\}$"
            ],
            "text/plain": [
              "{(0, 0, 7/6, 0, -1/6)}"
            ]
          },
          "execution_count": 2,
          "metadata": {},
          "output_type": "execute_result"
        }
      ],
      "source": [
        "a0, a1, a2, a3, a4 = sp.symbols('a:5')\n",
        "eq1 = a4*(-2)**4 + a3*(-2)**3 + a2*(-2)**2 + a1*(-2) + a0 - 2\n",
        "eq2 = a4*(-1)**4 + a3*(-1)**3 + a2*(-1)**2 + a1*(-1) + a0 - 1\n",
        "eq3 = a4*0 + a3*0 + a2*0 + a1*0 + a0 - 0\n",
        "eq4 = a4 + a3 + a2 + a1 + a0 - 1\n",
        "eq5 = a4*2**4 + a3*2**3 + a2*2**2 + a1*2 + a0 - 2\n",
        "sys_ = [eq1, eq2, eq3, eq4, eq5]\n",
        "sp.nonlinsolve(sys_, sp.symbols('a:5'))"
      ]
    },
    {
      "attachments": {},
      "cell_type": "markdown",
      "metadata": {},
      "source": [
        "### Plot 1"
      ]
    },
    {
      "cell_type": "code",
      "execution_count": 3,
      "metadata": {},
      "outputs": [
        {
          "data": {
            "text/plain": [
              "<matplotlib.collections.PathCollection at 0x1fbe3183810>"
            ]
          },
          "execution_count": 3,
          "metadata": {},
          "output_type": "execute_result"
        },
        {
          "data": {
            "image/png": "[encoded data removed]",
            "text/plain": [
              "<Figure size 640x480 with 1 Axes>"
            ]
          },
          "metadata": {},
          "output_type": "display_data"
        }
      ],
      "source": [
        "plt.axhline(0, color='black')\n",
        "plt.axvline(0, color='black')\n",
        "x_range = np.linspace(-3, 3, num=100)\n",
        "f = lambda x: -(1/6)*x**4 + (7/6)*x**2\n",
        "plt.plot(x_range, f(x_range))\n",
        "plt.scatter([-2, -1, 0, 1, 2], [2, 1, 0, 1, 2], color='red')"
      ]
    },
    {
      "attachments": {},
      "cell_type": "markdown",
      "metadata": {},
      "source": [
        "### Research 1"
      ]
    },
    {
      "cell_type": "code",
      "execution_count": 4,
      "metadata": {},
      "outputs": [
        {
          "data": {
            "text/plain": [
              "'Четная'"
            ]
          },
          "execution_count": 4,
          "metadata": {},
          "output_type": "execute_result"
        }
      ],
      "source": [
        "'Четная' if f(-1) == f(1) else 'Нечетная' if f(-1) == -f(1) else 'Ни четная, ни нечетная'"
      ]
    },
    {
      "cell_type": "code",
      "execution_count": 5,
      "metadata": {},
      "outputs": [
        {
          "data": {
            "text/plain": [
              "[-2.64575131106459, 0.0, 2.64575131106459]"
            ]
          },
          "execution_count": 5,
          "metadata": {},
          "output_type": "execute_result"
        }
      ],
      "source": [
        "x = sp.Symbol('x')\n",
        "func = -(1/6)*x**4 + (7/6)*x**2\n",
        "sp.solve(func, x)"
      ]
    },
    {
      "cell_type": "code",
      "execution_count": 6,
      "metadata": {},
      "outputs": [
        {
          "data": {
            "text/latex": [
              "$\\displaystyle \\left(2.64575131106459 < x \\wedge x < \\infty\\right) \\vee \\left(-\\infty < x \\wedge x < -2.64575131106459\\right)$"
            ],
            "text/plain": [
              "((2.64575131106459 < x) & (x < oo)) | ((-oo < x) & (x < -2.64575131106459))"
            ]
          },
          "execution_count": 6,
          "metadata": {},
          "output_type": "execute_result"
        }
      ],
      "source": [
        "sp.solve_univariate_inequality(func<0, x)"
      ]
    },
    {
      "cell_type": "code",
      "execution_count": 7,
      "metadata": {},
      "outputs": [
        {
          "data": {
            "text/latex": [
              "$\\displaystyle x > -2.64575131106459 \\wedge x < 2.64575131106459 \\wedge x \\neq 0$"
            ],
            "text/plain": [
              "(x > -2.64575131106459) & (x < 2.64575131106459) & Ne(x, 0)"
            ]
          },
          "execution_count": 7,
          "metadata": {},
          "output_type": "execute_result"
        }
      ],
      "source": [
        "sp.solve_univariate_inequality(func>0, x)"
      ]
    },
    {
      "attachments": {},
      "cell_type": "markdown",
      "metadata": {},
      "source": [
        "### Solve 2"
      ]
    },
    {
      "cell_type": "code",
      "execution_count": 8,
      "metadata": {},
      "outputs": [
        {
          "data": {
            "text/latex": [
              "$\\displaystyle \\left\\{\\left( 0, \\  - \\frac{94}{5}, \\  0, \\  \\frac{19}{24}, \\  0, \\  \\frac{1}{120}\\right)\\right\\}$"
            ],
            "text/plain": [
              "{(0, -94/5, 0, 19/24, 0, 1/120)}"
            ]
          },
          "execution_count": 8,
          "metadata": {},
          "output_type": "execute_result"
        }
      ],
      "source": [
        "a0, a1, a2, a3, a4, a5 = sp.symbols('a:6')\n",
        "eq1 = a5*(-3)**5 + a4*(-3)**4 + a3*(-3)**3 + a2*(-3)**2 + a1*(-3) + a0 - 33\n",
        "eq2 = a5*(-2)**5 + a4*(-2)**4 + a3*(-2)**3 + a2*(-2)**2 + a1*(-2) + a0 - 31\n",
        "eq3 = a5*(-1)**5 + a4*(-1)**4 + a3*(-1)**3 + a2*(-1)**2 + a1*(-1) + a0 - 18\n",
        "eq4 = a5 + a4 + a3 + a2 + a1 + a0 + 18\n",
        "eq5 = a5*2**5 + a4*2**4 + a3*2**3 + a2*2**2 + a1*2 + a0 + 31\n",
        "eq6 = a5*3**5 + a4*3**4 + a3*3**3 + a2*3**2 + a1*3 + a0 + 33\n",
        "sys_ = [eq1, eq2, eq3, eq4, eq5, eq6]\n",
        "sp.nonlinsolve(sys_, sp.symbols('a:6'))"
      ]
    },
    {
      "attachments": {},
      "cell_type": "markdown",
      "metadata": {},
      "source": [
        "### Plot 2"
      ]
    },
    {
      "cell_type": "code",
      "execution_count": 9,
      "metadata": {},
      "outputs": [
        {
          "data": {
            "text/plain": [
              "<matplotlib.collections.PathCollection at 0x1fbe541e750>"
            ]
          },
          "execution_count": 9,
          "metadata": {},
          "output_type": "execute_result"
        },
        {
          "data": {
            "image/png": "[encoded data removed]",
            "text/plain": [
              "<Figure size 640x480 with 1 Axes>"
            ]
          },
          "metadata": {},
          "output_type": "display_data"
        }
      ],
      "source": [
        "plt.axhline(0, color='black')\n",
        "plt.axvline(0, color='black')\n",
        "x_range = np.linspace(-6, 6, num=100)\n",
        "f = lambda x: (1/120)*x**5 + (19/24)*x**3 -(94/5)*x\n",
        "plt.plot(x_range, f(x_range))\n",
        "plt.scatter([-3, -2, -1, 1, 2, 3], [33, 31, 18, -18, -31, -33], color='red')"
      ]
    },
    {
      "attachments": {},
      "cell_type": "markdown",
      "metadata": {},
      "source": [
        "### Research 2"
      ]
    },
    {
      "cell_type": "code",
      "execution_count": 10,
      "metadata": {},
      "outputs": [
        {
          "data": {
            "text/plain": [
              "'Нечетная'"
            ]
          },
          "execution_count": 10,
          "metadata": {},
          "output_type": "execute_result"
        }
      ],
      "source": [
        "'Четная' if f(-1) == f(1) else 'Нечетная' if f(-1) == -f(1) else 'Ни четная, ни нечетная'"
      ]
    },
    {
      "cell_type": "code",
      "execution_count": 11,
      "metadata": {},
      "outputs": [
        {
          "data": {
            "text/plain": [
              "[-4.43545751638198,\n",
              " 0.0,\n",
              " 4.43545751638198,\n",
              " -10.7085612189327*I,\n",
              " 10.7085612189327*I]"
            ]
          },
          "execution_count": 11,
          "metadata": {},
          "output_type": "execute_result"
        }
      ],
      "source": [
        "x = sp.Symbol('x')\n",
        "func = (1/120)*x**5 + (19/24)*x**3 -(94/5)*x\n",
        "sp.solve(func, x)"
      ]
    },
    {
      "cell_type": "code",
      "execution_count": 12,
      "metadata": {},
      "outputs": [
        {
          "data": {
            "text/latex": [
              "$\\displaystyle \\left(-\\infty < x \\wedge x < -4.43545751638198\\right) \\vee \\left(0 < x \\wedge x < 4.43545751638198\\right)$"
            ],
            "text/plain": [
              "((-oo < x) & (x < -4.43545751638198)) | ((x < 4.43545751638198) & (0 < x))"
            ]
          },
          "execution_count": 12,
          "metadata": {},
          "output_type": "execute_result"
        }
      ],
      "source": [
        "sp.solve_univariate_inequality(func<0, x)"
      ]
    },
    {
      "cell_type": "code",
      "execution_count": 13,
      "metadata": {},
      "outputs": [
        {
          "data": {
            "text/latex": [
              "$\\displaystyle \\left(-4.43545751638198 < x \\wedge x < 0\\right) \\vee \\left(4.43545751638198 < x \\wedge x < \\infty\\right)$"
            ],
            "text/plain": [
              "((-4.43545751638198 < x) & (x < 0)) | ((4.43545751638198 < x) & (x < oo))"
            ]
          },
          "execution_count": 13,
          "metadata": {},
          "output_type": "execute_result"
        }
      ],
      "source": [
        "sp.solve_univariate_inequality(func>0, x)"
      ]
    }
  ],
  "metadata": {
    "colab": {
      "collapsed_sections": [],
      "name": "Преобразования функций и полиномы. Домашнее задание.ipynb",
      "provenance": []
    },
    "kernelspec": {
      "display_name": "Python 3",
      "language": "python",
      "name": "python3"
    },
    "language_info": {
      "codemirror_mode": {
        "name": "ipython",
        "version": 3
      },
      "file_extension": ".py",
      "mimetype": "text/x-python",
      "name": "python",
      "nbconvert_exporter": "python",
      "pygments_lexer": "ipython3",
      "version": "3.11.0"
    },
    "vscode": {
      "interpreter": {
        "hash": "fdd26c208cdc82a099485af7ee50f707cd08a163097de28840a416c136e1b212"
      }
    }
  },
  "nbformat": 4,
  "nbformat_minor": 0
}
