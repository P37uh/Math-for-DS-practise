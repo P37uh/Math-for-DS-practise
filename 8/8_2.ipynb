{
 "cells": [
  {
   "attachments": {},
   "cell_type": "markdown",
   "metadata": {},
   "source": [
    "## Задача аппроксимации функций двух переменных. Практика\n",
    "Для приведенных ниже функций укажите ту, mse которой меньше, основываясь на приведенных данных\n",
    "\n",
    "1. X = (10, 30), (-5, 15), (16, 31) \\\n",
    "   Y = 7, 20, -4 \\\n",
    "   $f_1(x_1, x_2) = -2x_2 + x_1 - 7$ \\\n",
    "   $f_2(x_1, x_2) = 20x_2 + 3x_1 -4$\n",
    "\n",
    "2. X = (16, 17), (-3, 28), (14, 85) \\\n",
    "   Y = 13, 42, -39 \\\n",
    "   $f_1(x_1, x_2) = -2x_2 - x_1 + 60$ \\\n",
    "   $f_2(x_1, x_2) = 2x_2 + 17x_1 - 9$\n",
    "   \n",
    "3. X = (7, 39), (12, 48), (3, 55) \\\n",
    "   Y = -60, 17, 83 \\\n",
    "   $f_1(x_1, x_2) = -4x_2 + 7x_1 - 11$ \\\n",
    "   $f_2(x_1, x_2) = -0.5x_2 + 9x_1 - 400$"
   ]
  },
  {
   "attachments": {},
   "cell_type": "markdown",
   "metadata": {},
   "source": [
    "### Import"
   ]
  },
  {
   "cell_type": "code",
   "execution_count": 53,
   "metadata": {},
   "outputs": [],
   "source": [
    "import sympy as sp\n",
    "from sklearn.metrics import mean_squared_error as mse\n",
    "\n",
    "x1, x2 = sp.symbols('x1 x2')"
   ]
  },
  {
   "attachments": {},
   "cell_type": "markdown",
   "metadata": {},
   "source": [
    "### Solve 1"
   ]
  },
  {
   "cell_type": "code",
   "execution_count": 54,
   "metadata": {},
   "outputs": [],
   "source": [
    "points_x = [(10, 30), (-5, 15), (16, 31)]\n",
    "points_y = [7, 20, -4]\n",
    "f1 = -2*x2 + x1 - 7\n",
    "f2 = 20*x2 + 3*x1 - 4\n",
    "y_pred1 = [float(f1.subs({x1: x1_, x2: x2_})) for x1_, x2_ in points_x]\n",
    "y_pred2 = [float(f2.subs({x1: x1_, x2: x2_})) for x1_, x2_ in points_x]"
   ]
  },
  {
   "cell_type": "code",
   "execution_count": 55,
   "metadata": {},
   "outputs": [
    {
     "data": {
      "text/plain": [
       "3447.0"
      ]
     },
     "execution_count": 55,
     "metadata": {},
     "output_type": "execute_result"
    }
   ],
   "source": [
    "mse(points_y, y_pred1)"
   ]
  },
  {
   "cell_type": "code",
   "execution_count": 56,
   "metadata": {},
   "outputs": [
    {
     "data": {
      "text/plain": [
       "299168.6666666667"
      ]
     },
     "execution_count": 56,
     "metadata": {},
     "output_type": "execute_result"
    }
   ],
   "source": [
    "mse(points_y, y_pred2)"
   ]
  },
  {
   "attachments": {},
   "cell_type": "markdown",
   "metadata": {},
   "source": [
    "### Solve2 "
   ]
  },
  {
   "cell_type": "code",
   "execution_count": 57,
   "metadata": {},
   "outputs": [],
   "source": [
    "points_x = [(16, 17), (-3, 28), (14, 85)]\n",
    "points_y = [13, 42, -39]\n",
    "f1 = -2*x2 - x1 + 60\n",
    "f2 = 2*x2 + 17*x1 - 9\n",
    "y_pred1 = [float(f1.subs({x1: x1_, x2: x2_})) for x1_, x2_ in points_x]\n",
    "y_pred2 = [float(f2.subs({x1: x1_, x2: x2_})) for x1_, x2_ in points_x]"
   ]
  },
  {
   "cell_type": "code",
   "execution_count": 58,
   "metadata": {},
   "outputs": [
    {
     "data": {
      "text/plain": [
       "2819.6666666666665"
      ]
     },
     "execution_count": 58,
     "metadata": {},
     "output_type": "execute_result"
    }
   ],
   "source": [
    "mse(points_y, y_pred1)"
   ]
  },
  {
   "cell_type": "code",
   "execution_count": 59,
   "metadata": {},
   "outputs": [
    {
     "data": {
      "text/plain": [
       "91538.66666666667"
      ]
     },
     "execution_count": 59,
     "metadata": {},
     "output_type": "execute_result"
    }
   ],
   "source": [
    "mse(points_y, y_pred2)"
   ]
  },
  {
   "attachments": {},
   "cell_type": "markdown",
   "metadata": {},
   "source": [
    "### Solve 3"
   ]
  },
  {
   "cell_type": "code",
   "execution_count": 60,
   "metadata": {},
   "outputs": [],
   "source": [
    "points_x = [(7, 39), (12, 48), (3, 55)]\n",
    "points_y = [-60, 17, 83]\n",
    "f1 = -4*x2 + 7*x1 - 11\n",
    "f2 = -0.5*x2 + 9*x1 - 400\n",
    "y_pred1 = [float(f1.subs({x1: x1_, x2: x2_})) for x1_, x2_ in points_x]\n",
    "y_pred2 = [float(f2.subs({x1: x1_, x2: x2_})) for x1_, x2_ in points_x]"
   ]
  },
  {
   "cell_type": "code",
   "execution_count": 61,
   "metadata": {},
   "outputs": [
    {
     "data": {
      "text/plain": [
       "35903.0"
      ]
     },
     "execution_count": 61,
     "metadata": {},
     "output_type": "execute_result"
    }
   ],
   "source": [
    "mse(points_y, y_pred1)"
   ]
  },
  {
   "cell_type": "code",
   "execution_count": 62,
   "metadata": {},
   "outputs": [
    {
     "data": {
      "text/plain": [
       "144191.16666666666"
      ]
     },
     "execution_count": 62,
     "metadata": {},
     "output_type": "execute_result"
    }
   ],
   "source": [
    "mse(points_y, y_pred2)"
   ]
  }
 ],
 "metadata": {
  "kernelspec": {
   "display_name": "Python 3",
   "language": "python",
   "name": "python3"
  },
  "language_info": {
   "codemirror_mode": {
    "name": "ipython",
    "version": 3
   },
   "file_extension": ".py",
   "mimetype": "text/x-python",
   "name": "python",
   "nbconvert_exporter": "python",
   "pygments_lexer": "ipython3",
   "version": "3.11.0"
  },
  "orig_nbformat": 4,
  "vscode": {
   "interpreter": {
    "hash": "fdd26c208cdc82a099485af7ee50f707cd08a163097de28840a416c136e1b212"
   }
  }
 },
 "nbformat": 4,
 "nbformat_minor": 2
}
