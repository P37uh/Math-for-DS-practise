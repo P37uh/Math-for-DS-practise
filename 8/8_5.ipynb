{
 "cells": [
  {
   "attachments": {},
   "cell_type": "markdown",
   "metadata": {},
   "source": [
    "## Частные производные и минимизация MSE. Практика\n",
    "В качестве практического задания найдите наилучшую функцию, приближающую зависимость площади дома от его цены и количества этажей. Известные данные остаются теми же, но теперь вам нужно будет предсказать площадь дома, а не его цену. Цена дома, в свою очередь, теперь будет известна. \n",
    "Данные для аппроксимации в таблице ниже. \\\n",
    "Выпишите MSE, найдите его частные производные, затем с помощью sympy найдите точку минимума и предскажите цену дома ценой 666 тысяч рублей и высотой в 4 этажа. Получилось ли у вас значение цены, близкое к тому, которое было нам известно на уроке?\n"
   ]
  },
  {
   "cell_type": "code",
   "execution_count": 32,
   "metadata": {},
   "outputs": [
    {
     "data": {
      "text/html": [
       "<div>\n",
       "<style scoped>\n",
       "    .dataframe tbody tr th:only-of-type {\n",
       "        vertical-align: middle;\n",
       "    }\n",
       "\n",
       "    .dataframe tbody tr th {\n",
       "        vertical-align: top;\n",
       "    }\n",
       "\n",
       "    .dataframe thead th {\n",
       "        text-align: right;\n",
       "    }\n",
       "</style>\n",
       "<table border=\"1\" class=\"dataframe\">\n",
       "  <thead>\n",
       "    <tr style=\"text-align: right;\">\n",
       "      <th></th>\n",
       "      <th>Цена дома</th>\n",
       "      <th>Количество этажей</th>\n",
       "      <th>Площадь дома</th>\n",
       "    </tr>\n",
       "  </thead>\n",
       "  <tbody>\n",
       "    <tr>\n",
       "      <th>0</th>\n",
       "      <td>200</td>\n",
       "      <td>2</td>\n",
       "      <td>200</td>\n",
       "    </tr>\n",
       "    <tr>\n",
       "      <th>1</th>\n",
       "      <td>300</td>\n",
       "      <td>1</td>\n",
       "      <td>450</td>\n",
       "    </tr>\n",
       "    <tr>\n",
       "      <th>2</th>\n",
       "      <td>600</td>\n",
       "      <td>3</td>\n",
       "      <td>550</td>\n",
       "    </tr>\n",
       "    <tr>\n",
       "      <th>3</th>\n",
       "      <td>666</td>\n",
       "      <td>4</td>\n",
       "      <td>?</td>\n",
       "    </tr>\n",
       "  </tbody>\n",
       "</table>\n",
       "</div>"
      ],
      "text/plain": [
       "   Цена дома  Количество этажей Площадь дома\n",
       "0        200                  2          200\n",
       "1        300                  1          450\n",
       "2        600                  3          550\n",
       "3        666                  4            ?"
      ]
     },
     "execution_count": 32,
     "metadata": {},
     "output_type": "execute_result"
    }
   ],
   "source": [
    "import pandas as pd\n",
    "data = {'Цена дома': [200, 300, 600, 666],\n",
    "        'Количество этажей': [2, 1, 3, 4],\n",
    "        'Площадь дома': [200, 450, 550, '?']}\n",
    "pd.DataFrame(data=data)"
   ]
  },
  {
   "attachments": {},
   "cell_type": "markdown",
   "metadata": {},
   "source": [
    "### Import"
   ]
  },
  {
   "cell_type": "code",
   "execution_count": 33,
   "metadata": {},
   "outputs": [],
   "source": [
    "import sympy as sp\n",
    "\n",
    "a0, a1, a2 = sp.symbols('a:3')\n",
    "x1, x2 = sp.symbols('x1:3')"
   ]
  },
  {
   "attachments": {},
   "cell_type": "markdown",
   "metadata": {},
   "source": [
    "### Solve"
   ]
  },
  {
   "cell_type": "code",
   "execution_count": 40,
   "metadata": {},
   "outputs": [
    {
     "data": {
      "text/latex": [
       "$\\displaystyle 0.333333333333333 \\left(a_{0} + a_{1} + 300 a_{2} - 450\\right)^{2} + 0.333333333333333 \\left(a_{0} + 2 a_{1} + 200 a_{2} - 200\\right)^{2} + 0.333333333333333 \\left(a_{0} + 3 a_{1} + 600 a_{2} - 550\\right)^{2}$"
      ],
      "text/plain": [
       "0.333333333333333*(a0 + a1 + 300*a2 - 450)**2 + 0.333333333333333*(a0 + 2*a1 + 200*a2 - 200)**2 + 0.333333333333333*(a0 + 3*a1 + 600*a2 - 550)**2"
      ]
     },
     "execution_count": 40,
     "metadata": {},
     "output_type": "execute_result"
    }
   ],
   "source": [
    "mse = 1/3 * ((200*a2 + 2*a1 + a0 - 200)**2 + \n",
    "              (300*a2 + 1*a1 + a0 - 450)**2 + \n",
    "              (600*a2 + 3*a1 + a0 - 550)**2)\n",
    "mse"
   ]
  },
  {
   "cell_type": "code",
   "execution_count": 35,
   "metadata": {},
   "outputs": [
    {
     "data": {
      "text/latex": [
       "$\\displaystyle 733.333333333333 a_{0} + 1666.66666666667 a_{1} + 326666.666666667 a_{2} - 336666.666666667$"
      ],
      "text/plain": [
       "733.333333333333*a0 + 1666.66666666667*a1 + 326666.666666667*a2 - 336666.666666667"
      ]
     },
     "execution_count": 35,
     "metadata": {},
     "output_type": "execute_result"
    }
   ],
   "source": [
    "dmse2 = sp.diff(mse, a2)\n",
    "dmse2"
   ]
  },
  {
   "cell_type": "code",
   "execution_count": 36,
   "metadata": {},
   "outputs": [
    {
     "data": {
      "text/latex": [
       "$\\displaystyle 4.0 a_{0} + 9.33333333333333 a_{1} + 1666.66666666667 a_{2} - 1666.66666666667$"
      ],
      "text/plain": [
       "4.0*a0 + 9.33333333333333*a1 + 1666.66666666667*a2 - 1666.66666666667"
      ]
     },
     "execution_count": 36,
     "metadata": {},
     "output_type": "execute_result"
    }
   ],
   "source": [
    "dmse1 = sp.diff(mse, a1)\n",
    "dmse1"
   ]
  },
  {
   "cell_type": "code",
   "execution_count": 37,
   "metadata": {},
   "outputs": [
    {
     "data": {
      "text/latex": [
       "$\\displaystyle 2.0 a_{0} + 4.0 a_{1} + 733.333333333333 a_{2} - 800.0$"
      ],
      "text/plain": [
       "2.0*a0 + 4.0*a1 + 733.333333333333*a2 - 800.0"
      ]
     },
     "execution_count": 37,
     "metadata": {},
     "output_type": "execute_result"
    }
   ],
   "source": [
    "dmse0 = sp.diff(mse, a0)\n",
    "dmse0"
   ]
  },
  {
   "cell_type": "code",
   "execution_count": 42,
   "metadata": {},
   "outputs": [
    {
     "data": {
      "text/plain": [
       "{a0: 220.000000000000, a1: -130.000000000003, a2: 1.20000000000001}"
      ]
     },
     "execution_count": 42,
     "metadata": {},
     "output_type": "execute_result"
    }
   ],
   "source": [
    "sp.solve([dmse0, dmse1, dmse2])"
   ]
  },
  {
   "cell_type": "code",
   "execution_count": 43,
   "metadata": {},
   "outputs": [
    {
     "data": {
      "text/latex": [
       "$\\displaystyle 499.2$"
      ],
      "text/plain": [
       "499.200000000000"
      ]
     },
     "execution_count": 43,
     "metadata": {},
     "output_type": "execute_result"
    }
   ],
   "source": [
    "f = 1.2*x2 -130*x1 + 220\n",
    "f.subs({x2: 666, x1: 4})"
   ]
  }
 ],
 "metadata": {
  "kernelspec": {
   "display_name": "Python 3",
   "language": "python",
   "name": "python3"
  },
  "language_info": {
   "codemirror_mode": {
    "name": "ipython",
    "version": 3
   },
   "file_extension": ".py",
   "mimetype": "text/x-python",
   "name": "python",
   "nbconvert_exporter": "python",
   "pygments_lexer": "ipython3",
   "version": "3.11.0"
  },
  "orig_nbformat": 4,
  "vscode": {
   "interpreter": {
    "hash": "fdd26c208cdc82a099485af7ee50f707cd08a163097de28840a416c136e1b212"
   }
  }
 },
 "nbformat": 4,
 "nbformat_minor": 2
}
